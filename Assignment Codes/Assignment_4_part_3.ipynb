{
  "cells": [
    {
      "cell_type": "markdown",
      "metadata": {
        "id": "4s0hc8e-sbRz"
      },
      "source": [
        "# Classification model 1 (KNN)"
      ]
    },
    {
      "cell_type": "code",
      "execution_count": null,
      "metadata": {
        "id": "-zRJxr5nsbR3",
        "outputId": "8728744c-776d-4999-e2f7-99d1ae70d11b"
      },
      "outputs": [
        {
          "data": {
            "text/html": [
              "<div>\n",
              "<style scoped>\n",
              "    .dataframe tbody tr th:only-of-type {\n",
              "        vertical-align: middle;\n",
              "    }\n",
              "\n",
              "    .dataframe tbody tr th {\n",
              "        vertical-align: top;\n",
              "    }\n",
              "\n",
              "    .dataframe thead th {\n",
              "        text-align: right;\n",
              "    }\n",
              "</style>\n",
              "<table border=\"1\" class=\"dataframe\">\n",
              "  <thead>\n",
              "    <tr style=\"text-align: right;\">\n",
              "      <th></th>\n",
              "      <th>physical condition</th>\n",
              "      <th>mental condition</th>\n",
              "      <th>marital status</th>\n",
              "      <th>unemployment</th>\n",
              "      <th>depression</th>\n",
              "    </tr>\n",
              "  </thead>\n",
              "  <tbody>\n",
              "    <tr>\n",
              "      <th>0</th>\n",
              "      <td>normal</td>\n",
              "      <td>normal</td>\n",
              "      <td>married</td>\n",
              "      <td>yes</td>\n",
              "      <td>no</td>\n",
              "    </tr>\n",
              "    <tr>\n",
              "      <th>1</th>\n",
              "      <td>normal</td>\n",
              "      <td>normal</td>\n",
              "      <td>married</td>\n",
              "      <td>no</td>\n",
              "      <td>no</td>\n",
              "    </tr>\n",
              "    <tr>\n",
              "      <th>2</th>\n",
              "      <td>fatigue</td>\n",
              "      <td>normal</td>\n",
              "      <td>married</td>\n",
              "      <td>yes</td>\n",
              "      <td>yes</td>\n",
              "    </tr>\n",
              "    <tr>\n",
              "      <th>3</th>\n",
              "      <td>heart disease</td>\n",
              "      <td>guilt</td>\n",
              "      <td>married</td>\n",
              "      <td>yes</td>\n",
              "      <td>yes</td>\n",
              "    </tr>\n",
              "    <tr>\n",
              "      <th>4</th>\n",
              "      <td>heart disease</td>\n",
              "      <td>anxiety</td>\n",
              "      <td>unmarried</td>\n",
              "      <td>yes</td>\n",
              "      <td>yes</td>\n",
              "    </tr>\n",
              "    <tr>\n",
              "      <th>5</th>\n",
              "      <td>heart disease</td>\n",
              "      <td>anxiety</td>\n",
              "      <td>unmarried</td>\n",
              "      <td>no</td>\n",
              "      <td>no</td>\n",
              "    </tr>\n",
              "    <tr>\n",
              "      <th>6</th>\n",
              "      <td>fatigue</td>\n",
              "      <td>anxiety</td>\n",
              "      <td>unmarried</td>\n",
              "      <td>no</td>\n",
              "      <td>yes</td>\n",
              "    </tr>\n",
              "    <tr>\n",
              "      <th>7</th>\n",
              "      <td>normal</td>\n",
              "      <td>guilt</td>\n",
              "      <td>married</td>\n",
              "      <td>yes</td>\n",
              "      <td>no</td>\n",
              "    </tr>\n",
              "    <tr>\n",
              "      <th>8</th>\n",
              "      <td>normal</td>\n",
              "      <td>anxiety</td>\n",
              "      <td>unmarried</td>\n",
              "      <td>yes</td>\n",
              "      <td>yes</td>\n",
              "    </tr>\n",
              "    <tr>\n",
              "      <th>9</th>\n",
              "      <td>heart disease</td>\n",
              "      <td>guilt</td>\n",
              "      <td>unmarried</td>\n",
              "      <td>yes</td>\n",
              "      <td>yes</td>\n",
              "    </tr>\n",
              "    <tr>\n",
              "      <th>10</th>\n",
              "      <td>normal</td>\n",
              "      <td>guilt</td>\n",
              "      <td>unmarried</td>\n",
              "      <td>no</td>\n",
              "      <td>yes</td>\n",
              "    </tr>\n",
              "    <tr>\n",
              "      <th>11</th>\n",
              "      <td>fatigue</td>\n",
              "      <td>guilt</td>\n",
              "      <td>married</td>\n",
              "      <td>no</td>\n",
              "      <td>yes</td>\n",
              "    </tr>\n",
              "    <tr>\n",
              "      <th>12</th>\n",
              "      <td>fatigue</td>\n",
              "      <td>normal</td>\n",
              "      <td>unmarried</td>\n",
              "      <td>yes</td>\n",
              "      <td>yes</td>\n",
              "    </tr>\n",
              "    <tr>\n",
              "      <th>13</th>\n",
              "      <td>heart disease</td>\n",
              "      <td>guilt</td>\n",
              "      <td>married</td>\n",
              "      <td>no</td>\n",
              "      <td>no</td>\n",
              "    </tr>\n",
              "    <tr>\n",
              "      <th>14</th>\n",
              "      <td>fatigue</td>\n",
              "      <td>guilt</td>\n",
              "      <td>unmarried</td>\n",
              "      <td>yes</td>\n",
              "      <td>yes</td>\n",
              "    </tr>\n",
              "    <tr>\n",
              "      <th>15</th>\n",
              "      <td>heart disease</td>\n",
              "      <td>guilt</td>\n",
              "      <td>unmarried</td>\n",
              "      <td>yes</td>\n",
              "      <td>no</td>\n",
              "    </tr>\n",
              "    <tr>\n",
              "      <th>16</th>\n",
              "      <td>normal</td>\n",
              "      <td>normal</td>\n",
              "      <td>married</td>\n",
              "      <td>no</td>\n",
              "      <td>no</td>\n",
              "    </tr>\n",
              "    <tr>\n",
              "      <th>17</th>\n",
              "      <td>normal</td>\n",
              "      <td>guilt</td>\n",
              "      <td>unmarried</td>\n",
              "      <td>no</td>\n",
              "      <td>no</td>\n",
              "    </tr>\n",
              "  </tbody>\n",
              "</table>\n",
              "</div>"
            ],
            "text/plain": [
              "   physical condition mental condition marital status unemployment depression\n",
              "0              normal           normal        married          yes         no\n",
              "1              normal           normal        married           no         no\n",
              "2             fatigue           normal        married          yes        yes\n",
              "3       heart disease            guilt        married          yes        yes\n",
              "4       heart disease          anxiety      unmarried          yes        yes\n",
              "5       heart disease          anxiety      unmarried           no         no\n",
              "6             fatigue          anxiety      unmarried           no        yes\n",
              "7              normal            guilt        married          yes         no\n",
              "8              normal          anxiety      unmarried          yes        yes\n",
              "9       heart disease            guilt      unmarried          yes        yes\n",
              "10             normal            guilt      unmarried           no        yes\n",
              "11            fatigue            guilt        married           no        yes\n",
              "12            fatigue           normal      unmarried          yes        yes\n",
              "13      heart disease            guilt        married           no         no\n",
              "14            fatigue            guilt      unmarried          yes        yes\n",
              "15      heart disease            guilt      unmarried          yes         no\n",
              "16             normal           normal        married           no         no\n",
              "17             normal            guilt      unmarried           no         no"
            ]
          },
          "execution_count": 1,
          "metadata": {},
          "output_type": "execute_result"
        }
      ],
      "source": [
        "#KNN\n",
        "#https://stackabuse.com/k-nearest-neighbors-algorithm-in-python-and-scikit-learn/\n",
        "#numpy and pandas initialization\n",
        "#https://towardsdatascience.com/building-a-k-nearest-neighbors-k-nn-model-with-scikit-learn-51209555453a\n",
        "import numpy as np\n",
        "import pandas as pd\n",
        "\n",
        "#Loading the PlayTennis data\n",
        "df = pd.read_csv(\"depression.csv\")\n",
        "\n",
        "df"
      ]
    },
    {
      "cell_type": "code",
      "execution_count": null,
      "metadata": {
        "id": "b1-BNONJsbR5",
        "outputId": "15399615-1199-40e0-e6b0-6bd5417ce5ee"
      },
      "outputs": [
        {
          "data": {
            "text/html": [
              "<div>\n",
              "<style scoped>\n",
              "    .dataframe tbody tr th:only-of-type {\n",
              "        vertical-align: middle;\n",
              "    }\n",
              "\n",
              "    .dataframe tbody tr th {\n",
              "        vertical-align: top;\n",
              "    }\n",
              "\n",
              "    .dataframe thead th {\n",
              "        text-align: right;\n",
              "    }\n",
              "</style>\n",
              "<table border=\"1\" class=\"dataframe\">\n",
              "  <thead>\n",
              "    <tr style=\"text-align: right;\">\n",
              "      <th></th>\n",
              "      <th>physical condition</th>\n",
              "      <th>mental condition</th>\n",
              "      <th>marital status</th>\n",
              "      <th>unemployment</th>\n",
              "      <th>depression</th>\n",
              "    </tr>\n",
              "  </thead>\n",
              "  <tbody>\n",
              "    <tr>\n",
              "      <th>0</th>\n",
              "      <td>2</td>\n",
              "      <td>2</td>\n",
              "      <td>0</td>\n",
              "      <td>1</td>\n",
              "      <td>0</td>\n",
              "    </tr>\n",
              "    <tr>\n",
              "      <th>1</th>\n",
              "      <td>2</td>\n",
              "      <td>2</td>\n",
              "      <td>0</td>\n",
              "      <td>0</td>\n",
              "      <td>0</td>\n",
              "    </tr>\n",
              "    <tr>\n",
              "      <th>2</th>\n",
              "      <td>0</td>\n",
              "      <td>2</td>\n",
              "      <td>0</td>\n",
              "      <td>1</td>\n",
              "      <td>1</td>\n",
              "    </tr>\n",
              "    <tr>\n",
              "      <th>3</th>\n",
              "      <td>1</td>\n",
              "      <td>1</td>\n",
              "      <td>0</td>\n",
              "      <td>1</td>\n",
              "      <td>1</td>\n",
              "    </tr>\n",
              "    <tr>\n",
              "      <th>4</th>\n",
              "      <td>1</td>\n",
              "      <td>0</td>\n",
              "      <td>1</td>\n",
              "      <td>1</td>\n",
              "      <td>1</td>\n",
              "    </tr>\n",
              "    <tr>\n",
              "      <th>5</th>\n",
              "      <td>1</td>\n",
              "      <td>0</td>\n",
              "      <td>1</td>\n",
              "      <td>0</td>\n",
              "      <td>0</td>\n",
              "    </tr>\n",
              "    <tr>\n",
              "      <th>6</th>\n",
              "      <td>0</td>\n",
              "      <td>0</td>\n",
              "      <td>1</td>\n",
              "      <td>0</td>\n",
              "      <td>1</td>\n",
              "    </tr>\n",
              "    <tr>\n",
              "      <th>7</th>\n",
              "      <td>2</td>\n",
              "      <td>1</td>\n",
              "      <td>0</td>\n",
              "      <td>1</td>\n",
              "      <td>0</td>\n",
              "    </tr>\n",
              "    <tr>\n",
              "      <th>8</th>\n",
              "      <td>2</td>\n",
              "      <td>0</td>\n",
              "      <td>1</td>\n",
              "      <td>1</td>\n",
              "      <td>1</td>\n",
              "    </tr>\n",
              "    <tr>\n",
              "      <th>9</th>\n",
              "      <td>1</td>\n",
              "      <td>1</td>\n",
              "      <td>1</td>\n",
              "      <td>1</td>\n",
              "      <td>1</td>\n",
              "    </tr>\n",
              "    <tr>\n",
              "      <th>10</th>\n",
              "      <td>2</td>\n",
              "      <td>1</td>\n",
              "      <td>1</td>\n",
              "      <td>0</td>\n",
              "      <td>1</td>\n",
              "    </tr>\n",
              "    <tr>\n",
              "      <th>11</th>\n",
              "      <td>0</td>\n",
              "      <td>1</td>\n",
              "      <td>0</td>\n",
              "      <td>0</td>\n",
              "      <td>1</td>\n",
              "    </tr>\n",
              "    <tr>\n",
              "      <th>12</th>\n",
              "      <td>0</td>\n",
              "      <td>2</td>\n",
              "      <td>1</td>\n",
              "      <td>1</td>\n",
              "      <td>1</td>\n",
              "    </tr>\n",
              "    <tr>\n",
              "      <th>13</th>\n",
              "      <td>1</td>\n",
              "      <td>1</td>\n",
              "      <td>0</td>\n",
              "      <td>0</td>\n",
              "      <td>0</td>\n",
              "    </tr>\n",
              "    <tr>\n",
              "      <th>14</th>\n",
              "      <td>0</td>\n",
              "      <td>1</td>\n",
              "      <td>1</td>\n",
              "      <td>1</td>\n",
              "      <td>1</td>\n",
              "    </tr>\n",
              "    <tr>\n",
              "      <th>15</th>\n",
              "      <td>1</td>\n",
              "      <td>1</td>\n",
              "      <td>1</td>\n",
              "      <td>1</td>\n",
              "      <td>0</td>\n",
              "    </tr>\n",
              "    <tr>\n",
              "      <th>16</th>\n",
              "      <td>2</td>\n",
              "      <td>2</td>\n",
              "      <td>0</td>\n",
              "      <td>0</td>\n",
              "      <td>0</td>\n",
              "    </tr>\n",
              "    <tr>\n",
              "      <th>17</th>\n",
              "      <td>2</td>\n",
              "      <td>1</td>\n",
              "      <td>1</td>\n",
              "      <td>0</td>\n",
              "      <td>0</td>\n",
              "    </tr>\n",
              "  </tbody>\n",
              "</table>\n",
              "</div>"
            ],
            "text/plain": [
              "    physical condition  mental condition  marital status  unemployment  \\\n",
              "0                    2                 2               0             1   \n",
              "1                    2                 2               0             0   \n",
              "2                    0                 2               0             1   \n",
              "3                    1                 1               0             1   \n",
              "4                    1                 0               1             1   \n",
              "5                    1                 0               1             0   \n",
              "6                    0                 0               1             0   \n",
              "7                    2                 1               0             1   \n",
              "8                    2                 0               1             1   \n",
              "9                    1                 1               1             1   \n",
              "10                   2                 1               1             0   \n",
              "11                   0                 1               0             0   \n",
              "12                   0                 2               1             1   \n",
              "13                   1                 1               0             0   \n",
              "14                   0                 1               1             1   \n",
              "15                   1                 1               1             1   \n",
              "16                   2                 2               0             0   \n",
              "17                   2                 1               1             0   \n",
              "\n",
              "    depression  \n",
              "0            0  \n",
              "1            0  \n",
              "2            1  \n",
              "3            1  \n",
              "4            1  \n",
              "5            0  \n",
              "6            1  \n",
              "7            0  \n",
              "8            1  \n",
              "9            1  \n",
              "10           1  \n",
              "11           1  \n",
              "12           1  \n",
              "13           0  \n",
              "14           1  \n",
              "15           0  \n",
              "16           0  \n",
              "17           0  "
            ]
          },
          "execution_count": 2,
          "metadata": {},
          "output_type": "execute_result"
        }
      ],
      "source": [
        "from sklearn.preprocessing import LabelEncoder\n",
        "Le = LabelEncoder()\n",
        "\n",
        "df['physical condition'] = Le.fit_transform(df['physical condition'])\n",
        "df['mental condition'] = Le.fit_transform(df['mental condition'])\n",
        "df['marital status'] = Le.fit_transform(df['marital status'])\n",
        "df['unemployment'] = Le.fit_transform(df['unemployment'])\n",
        "df['depression'] = Le.fit_transform(df['depression'])\n",
        "#df['hallucinations'] = Le.fit_transform(df['hallucinations'])\n",
        "#df['suicidal'] = Le.fit_transform(df['suicidal'])\n",
        "df\n"
      ]
    },
    {
      "cell_type": "code",
      "execution_count": null,
      "metadata": {
        "id": "7OpCmFF8sbR7"
      },
      "outputs": [],
      "source": [
        "y = df['depression']\n",
        "X = df.drop(['depression'],axis=1)"
      ]
    },
    {
      "cell_type": "code",
      "execution_count": null,
      "metadata": {
        "id": "MAv7U4hgsbR8"
      },
      "outputs": [],
      "source": [
        "from sklearn.model_selection import train_test_split\n",
        "X_train, X_test, y_train, y_test = train_test_split(X, y, test_size=0.20)"
      ]
    },
    {
      "cell_type": "code",
      "execution_count": null,
      "metadata": {
        "id": "js9mlRLJsbR9"
      },
      "outputs": [],
      "source": [
        "from sklearn.neighbors import KNeighborsClassifier\n",
        "classifier = KNeighborsClassifier(n_neighbors=3)\n",
        "classifier.fit(X_train, y_train)\n",
        "y_pred = classifier.predict(X_test)"
      ]
    },
    {
      "cell_type": "code",
      "execution_count": null,
      "metadata": {
        "id": "rQzJtjmMsbR-",
        "outputId": "c292f11d-165a-46d1-9391-a673faee1d79"
      },
      "outputs": [
        {
          "name": "stdout",
          "output_type": "stream",
          "text": [
            "[[1 0]\n",
            " [1 2]]\n"
          ]
        }
      ],
      "source": [
        "from sklearn.metrics import  confusion_matrix\n",
        "print(confusion_matrix(y_test, y_pred))"
      ]
    },
    {
      "cell_type": "code",
      "execution_count": null,
      "metadata": {
        "id": "pOVha2d5sbR_",
        "outputId": "fce0bf8e-b6b8-409a-9ecd-8e9f379d4be9"
      },
      "outputs": [
        {
          "name": "stdout",
          "output_type": "stream",
          "text": [
            "f1 score is  0.8\n",
            "precision score is  1.0\n",
            "accuracy is  0.75\n",
            "recall score is  0.6666666666666666\n"
          ]
        }
      ],
      "source": [
        "import sklearn.metrics as metrics\n",
        "\n",
        "print('f1 score is ',metrics.f1_score(y_test, y_pred, labels=np.unique(y_pred)))\n",
        "print('precision score is ',metrics.precision_score(y_test, y_pred, labels=np.unique(y_pred)))\n",
        "print('accuracy is ',metrics.accuracy_score(y_test, y_pred))\n",
        "print('recall score is ',metrics.recall_score(y_test, y_pred))"
      ]
    },
    {
      "cell_type": "code",
      "execution_count": null,
      "metadata": {
        "id": "rpxVjMRRsbSA",
        "outputId": "bb57c13c-c163-41e6-cd46-6a7caf1c6c72"
      },
      "outputs": [
        {
          "name": "stdout",
          "output_type": "stream",
          "text": [
            "[0.75       0.75       0.25       0.66666667 1.        ]\n",
            "cv_scores mean:0.6833333333333333\n"
          ]
        }
      ],
      "source": [
        "#CROSS VALIDATION\n",
        "from sklearn.model_selection import cross_val_score\n",
        "import numpy as np\n",
        "#create a new KNN model\n",
        "knn_cv = KNeighborsClassifier(n_neighbors=3)\n",
        "#train model with cv of 5 \n",
        "cv_scores = cross_val_score(knn_cv, X, y, cv=5)\n",
        "#print each cv score (accuracy) and average them\n",
        "print(cv_scores)\n",
        "print(\"cv_scores mean:{}\".format(np.mean(cv_scores)))\n"
      ]
    },
    {
      "cell_type": "code",
      "execution_count": null,
      "metadata": {
        "id": "IPk0UCWcsbSB"
      },
      "outputs": [],
      "source": []
    },
    {
      "cell_type": "markdown",
      "metadata": {
        "id": "b_P9GcgqsbSC"
      },
      "source": [
        "# Decision Tree"
      ]
    },
    {
      "cell_type": "code",
      "execution_count": null,
      "metadata": {
        "id": "wF5Q_-2jsbSD",
        "outputId": "d441e260-8e8e-43c2-e2e6-a687bbeeb262"
      },
      "outputs": [
        {
          "name": "stdout",
          "output_type": "stream",
          "text": [
            "[[0 2]\n",
            " [1 1]]\n"
          ]
        }
      ],
      "source": [
        "from sklearn.model_selection import train_test_split\n",
        "X_train, X_test, y_train, y_test = train_test_split(X, y, test_size=0.20)\n",
        "from sklearn.tree import DecisionTreeClassifier\n",
        "classifier = DecisionTreeClassifier()\n",
        "classifier.fit(X_train, y_train)\n",
        "y_pred = classifier.predict(X_test)\n",
        "\n",
        "from sklearn.metrics import  confusion_matrix\n",
        "print(confusion_matrix(y_test, y_pred))"
      ]
    },
    {
      "cell_type": "code",
      "execution_count": null,
      "metadata": {
        "id": "WT8D-BMosbSD"
      },
      "outputs": [],
      "source": [
        "y_pred = classifier.predict(X_test)"
      ]
    },
    {
      "cell_type": "code",
      "execution_count": null,
      "metadata": {
        "id": "qWTqgWk9sbSE",
        "outputId": "1480640a-ba58-4eab-cb98-acddcbfb157a"
      },
      "outputs": [
        {
          "name": "stdout",
          "output_type": "stream",
          "text": [
            "[[0 2]\n",
            " [1 1]]\n"
          ]
        }
      ],
      "source": [
        "from sklearn.metrics import  confusion_matrix\n",
        "print(confusion_matrix(y_test, y_pred))"
      ]
    },
    {
      "cell_type": "code",
      "execution_count": null,
      "metadata": {
        "id": "cKcffwESsbSF",
        "outputId": "96bd99e8-cb1a-4431-8b52-f82829c21299"
      },
      "outputs": [
        {
          "name": "stdout",
          "output_type": "stream",
          "text": [
            "f1 score is  0.4\n",
            "precision score is  0.3333333333333333\n",
            "accuracy is  0.25\n",
            "recall score is  0.5\n"
          ]
        }
      ],
      "source": [
        "import sklearn.metrics as metrics\n",
        "\n",
        "print('f1 score is ',metrics.f1_score(y_test, y_pred, labels=np.unique(y_pred)))\n",
        "print('precision score is ',metrics.precision_score(y_test, y_pred, labels=np.unique(y_pred)))\n",
        "print('accuracy is ',metrics.accuracy_score(y_test, y_pred))\n",
        "print('recall score is ',metrics.recall_score(y_test, y_pred))"
      ]
    },
    {
      "cell_type": "code",
      "execution_count": null,
      "metadata": {
        "id": "9V4EcrpWsbSF",
        "outputId": "c20f5949-79e6-43e2-d689-91533b559dff"
      },
      "outputs": [
        {
          "name": "stdout",
          "output_type": "stream",
          "text": [
            "[0.75       0.5        0.25       0.66666667 0.66666667]\n",
            "cv_scores mean:0.5666666666666667\n"
          ]
        }
      ],
      "source": [
        "#CROSS VALIDATION\n",
        "from sklearn.model_selection import cross_val_score\n",
        "import numpy as np\n",
        "\n",
        "cvx = DecisionTreeClassifier()\n",
        "#train model with cv of 5 \n",
        "cv_scores = cross_val_score(cvx, X, y, cv=5)\n",
        "#print each cv score (accuracy) and average them\n",
        "print(cv_scores)\n",
        "print(\"cv_scores mean:{}\".format(np.mean(cv_scores)))\n"
      ]
    },
    {
      "cell_type": "raw",
      "metadata": {
        "id": "kxHRWtaRsbSG"
      },
      "source": []
    },
    {
      "cell_type": "markdown",
      "metadata": {
        "id": "aPzjmTL9sbSG"
      },
      "source": [
        "# Naive Bayes"
      ]
    },
    {
      "cell_type": "code",
      "execution_count": null,
      "metadata": {
        "id": "8bnWv0sksbSG"
      },
      "outputs": [],
      "source": [
        "y = df['depression']\n",
        "X = df.drop(['depression'],axis=1)\n",
        "\n",
        "\n",
        "\n",
        "#Import Gaussian Naive Bayes model\n",
        "from sklearn.naive_bayes import GaussianNB\n",
        "\n",
        "#Create a Gaussian Classifier\n",
        "gnb = GaussianNB()\n",
        "\n",
        "#Train the model using the training sets\n",
        "gnb.fit(X_train, y_train)\n",
        "\n",
        "#Predict the response for test dataset\n",
        "y_pred = gnb.predict(X_test)"
      ]
    },
    {
      "cell_type": "code",
      "execution_count": null,
      "metadata": {
        "id": "cTcFlOttsbSG",
        "outputId": "ac76a00c-634e-4e4e-c933-7c94c904e494"
      },
      "outputs": [
        {
          "name": "stdout",
          "output_type": "stream",
          "text": [
            "[[0 2]\n",
            " [0 2]]\n",
            "f1 score is  0.6666666666666666\n",
            "precision score is  0.5\n",
            "accuracy is  0.5\n",
            "recall score is  1.0\n",
            "[0.75       0.75       0.25       0.66666667 1.        ]\n",
            "cv_scores mean:0.6833333333333333\n"
          ]
        }
      ],
      "source": [
        "from sklearn.metrics import  confusion_matrix\n",
        "print(confusion_matrix(y_test, y_pred))\n",
        "\n",
        "import sklearn.metrics as metrics\n",
        "\n",
        "print('f1 score is ',metrics.f1_score(y_test, y_pred, labels=np.unique(y_pred)))\n",
        "print('precision score is ',metrics.precision_score(y_test, y_pred, labels=np.unique(y_pred)))\n",
        "print('accuracy is ',metrics.accuracy_score(y_test, y_pred))\n",
        "print('recall score is ',metrics.recall_score(y_test, y_pred))\n",
        "\n",
        "#CROSS VALIDATION\n",
        "from sklearn.model_selection import cross_val_score\n",
        "import numpy as np\n",
        "\n",
        "cvx = GaussianNB()\n",
        "#train model with cv of 5 \n",
        "cv_scores = cross_val_score(cvx, X, y, cv=5)\n",
        "#print each cv score (accuracy) and average them\n",
        "print(cv_scores)\n",
        "print(\"cv_scores mean:{}\".format(np.mean(cv_scores)))\n"
      ]
    },
    {
      "cell_type": "code",
      "execution_count": null,
      "metadata": {
        "id": "VI4o3SKMsbSH"
      },
      "outputs": [],
      "source": []
    },
    {
      "cell_type": "markdown",
      "metadata": {
        "id": "5od56eZpsbSH"
      },
      "source": [
        "# SVM"
      ]
    },
    {
      "cell_type": "code",
      "execution_count": null,
      "metadata": {
        "id": "IfiZAVTDsbSH"
      },
      "outputs": [],
      "source": [
        "#Import svm model\n",
        "from sklearn import svm\n",
        "\n",
        "#Create a svm Classifier\n",
        "clf = svm.SVC(kernel='linear') # Linear Kernel\n",
        "\n",
        "#Train the model using the training sets\n",
        "clf.fit(X_train, y_train)\n",
        "\n",
        "#Predict the response for test dataset\n",
        "y_pred = clf.predict(X_test)"
      ]
    },
    {
      "cell_type": "code",
      "execution_count": null,
      "metadata": {
        "id": "zeKfN2fnsbSH",
        "outputId": "f6c19603-fcf2-40f6-c9eb-5ccc9865c59d"
      },
      "outputs": [
        {
          "name": "stdout",
          "output_type": "stream",
          "text": [
            "[[0 2]\n",
            " [1 1]]\n"
          ]
        }
      ],
      "source": [
        "from sklearn.metrics import  confusion_matrix\n",
        "print(confusion_matrix(y_test, y_pred))\n"
      ]
    },
    {
      "cell_type": "code",
      "execution_count": null,
      "metadata": {
        "id": "lLSPRaUUsbSI",
        "outputId": "e0cfedda-80d2-4e89-dbbe-227a15fc075a"
      },
      "outputs": [
        {
          "name": "stdout",
          "output_type": "stream",
          "text": [
            "f1 score is  0.4\n",
            "precision score is  0.3333333333333333\n",
            "accuracy is  0.25\n",
            "recall score is  0.5\n"
          ]
        }
      ],
      "source": [
        "import sklearn.metrics as metrics\n",
        "\n",
        "print('f1 score is ',metrics.f1_score(y_test, y_pred, labels=np.unique(y_pred)))\n",
        "print('precision score is ',metrics.precision_score(y_test, y_pred, labels=np.unique(y_pred)))\n",
        "print('accuracy is ',metrics.accuracy_score(y_test, y_pred))\n",
        "print('recall score is ',metrics.recall_score(y_test, y_pred))"
      ]
    },
    {
      "cell_type": "code",
      "execution_count": null,
      "metadata": {
        "id": "DJnMCH2HsbSJ",
        "outputId": "4b089c4f-58fc-4e10-db9b-13612c6cd8b8"
      },
      "outputs": [
        {
          "name": "stdout",
          "output_type": "stream",
          "text": [
            "[0.75       0.75       0.5        0.66666667 1.        ]\n",
            "cv_scores mean:0.7333333333333333\n"
          ]
        }
      ],
      "source": [
        "from sklearn.model_selection import cross_val_score\n",
        "import numpy as np\n",
        "\n",
        "cvx =svm.SVC(kernel='linear')\n",
        "#train model with cv of 5 \n",
        "cv_scores = cross_val_score(cvx, X, y, cv=5)\n",
        "#print each cv score (accuracy) and average them\n",
        "print(cv_scores)\n",
        "print(\"cv_scores mean:{}\".format(np.mean(cv_scores)))"
      ]
    },
    {
      "cell_type": "markdown",
      "metadata": {
        "id": "giyE2CJRsbSJ"
      },
      "source": [
        "# Random Forest"
      ]
    },
    {
      "cell_type": "code",
      "execution_count": null,
      "metadata": {
        "id": "fWNSikibsbSJ"
      },
      "outputs": [],
      "source": [
        "#Import Random Forest Model\n",
        "from sklearn.ensemble import RandomForestClassifier\n",
        "\n",
        "clf=RandomForestClassifier(n_estimators=100)\n",
        "\n",
        "#Train the model using the training sets y_pred=clf.predict(X_test)\n",
        "clf.fit(X_train,y_train)\n",
        "\n",
        "y_pred=clf.predict(X_test)"
      ]
    },
    {
      "cell_type": "code",
      "execution_count": null,
      "metadata": {
        "id": "YsZEOazOsbSK",
        "outputId": "ef16dd10-6017-4273-ecdc-41049754d68d"
      },
      "outputs": [
        {
          "name": "stdout",
          "output_type": "stream",
          "text": [
            "accuracy is  0.5\n"
          ]
        }
      ],
      "source": [
        "import sklearn.metrics as metrics\n",
        "\n",
        "print('accuracy is ',metrics.accuracy_score(y_test, y_pred))"
      ]
    },
    {
      "cell_type": "code",
      "execution_count": null,
      "metadata": {
        "id": "ZTOvUH_GsbSK",
        "outputId": "95053cc5-e113-4766-a954-62497d732a4e"
      },
      "outputs": [
        {
          "name": "stdout",
          "output_type": "stream",
          "text": [
            "[0.75       0.5        0.5        0.66666667 0.66666667]\n",
            "cv_scores mean:0.6166666666666666\n"
          ]
        }
      ],
      "source": [
        "from sklearn.model_selection import cross_val_score\n",
        "import numpy as np\n",
        "\n",
        "cvx =RandomForestClassifier(n_estimators=100)\n",
        "#train model with cv of 5 \n",
        "cv_scores = cross_val_score(cvx, X, y, cv=5)\n",
        "#print each cv score (accuracy) and average them\n",
        "print(cv_scores)\n",
        "print(\"cv_scores mean:{}\".format(np.mean(cv_scores)))"
      ]
    },
    {
      "cell_type": "code",
      "execution_count": null,
      "metadata": {
        "id": "6DpjcnA5sbSK"
      },
      "outputs": [],
      "source": []
    },
    {
      "cell_type": "code",
      "execution_count": null,
      "metadata": {
        "id": "_QE0vc6qsbSK"
      },
      "outputs": [],
      "source": []
    },
    {
      "cell_type": "code",
      "execution_count": null,
      "metadata": {
        "id": "mVMMKXqzsbSL"
      },
      "outputs": [],
      "source": []
    },
    {
      "cell_type": "code",
      "execution_count": null,
      "metadata": {
        "id": "1GO2G6JmsbSL"
      },
      "outputs": [],
      "source": []
    },
    {
      "cell_type": "code",
      "execution_count": null,
      "metadata": {
        "id": "QqRp8zwIsbSL"
      },
      "outputs": [],
      "source": []
    }
  ],
  "metadata": {
    "kernelspec": {
      "display_name": "Python 3",
      "language": "python",
      "name": "python3"
    },
    "language_info": {
      "codemirror_mode": {
        "name": "ipython",
        "version": 3
      },
      "file_extension": ".py",
      "mimetype": "text/x-python",
      "name": "python",
      "nbconvert_exporter": "python",
      "pygments_lexer": "ipython3",
      "version": "3.8.5"
    },
    "colab": {
      "provenance": []
    }
  },
  "nbformat": 4,
  "nbformat_minor": 0
}